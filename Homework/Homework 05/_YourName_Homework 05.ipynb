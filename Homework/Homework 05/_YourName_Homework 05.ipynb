{
 "cells": [
  {
   "cell_type": "markdown",
   "metadata": {},
   "source": [
    "Mena Hussen Your name goes here Pleaese"
   ]
  },
  {
   "cell_type": "markdown",
   "metadata": {},
   "source": [
    "## Objective:\n",
    "The objective of this assignment is to practice using Functional Programing.\n",
    "\n",
    "## Instructions:\n",
    "\n",
    "Using everything we learned to day about Functional Programing, lambda and itters create one of each of the following:\n",
    "-  Basic Lambda Function\n",
    "    - Create a lambda function that takes one arguments and returns even or odd.\n",
    "- Advanced lambda Function\n",
    "    - Create a lambda function that takes a list and returns their sum \n",
    "- Sorting with Lambda\n",
    "- Filtering with Lambda - `filter()` \n",
    "- Mapping with Lambda - `map()`\n",
    "- Reducing with Lambda -  `reduce()` \n",
    "- Enumerate with or without Lambda - `enumerate()`\n",
    "- zip with or without lambda (may combine enumerate like in class) - `zip()`\n",
    "\n",
    "Submit the file as a .py \n",
    "\n",
    "\n"
   ]
  },
  {
   "cell_type": "markdown",
   "metadata": {},
   "source": []
  },
  {
   "cell_type": "code",
   "execution_count": null,
   "metadata": {
    "vscode": {
     "languageId": "plaintext"
    }
   },
   "outputs": [],
   "source": [
    "# Basic Lambda Function\n",
    "is_even_or_odd = lambda x: \"Even\" if x % 2 == 0 else \"Odd\"\n",
    "\n",
    "# Advanced Lambda Function\n",
    "sum_list = lambda lst: sum(lst)\n",
    "\n",
    "# Sorting with Lambda\n",
    "numbers = [5, 2, 9, 1, 5, 6]\n",
    "sorted_numbers = sorted(numbers, key=lambda x: x)\n",
    "\n",
    "# Filtering with Lambda\n",
    "filtered_numbers = list(filter(lambda x: x % 2 == 0, numbers))\n",
    "\n",
    "# Mapping with Lambda\n",
    "squared_numbers = list(map(lambda x: x ** 2, numbers))\n",
    "\n",
    "# Reducing with Lambda\n",
    "from functools import reduce\n",
    "sum_of_numbers = reduce(lambda x, y: x + y, numbers)\n",
    "\n",
    "# Enumerate with or without Lambda\n",
    "enumerated_list = list(enumerate(numbers))\n",
    "\n",
    "# Zip with or without Lambda\n",
    "letters = ['a', 'b', 'c', 'd', 'e', 'f']\n",
    "zipped_list = list(zip(numbers, letters))\n",
    "\n",
    "# Print statements to verify outputs\n",
    "print(\"Basic Lambda Function Output:\", is_even_or_odd(4))\n",
    "print(\"Advanced Lambda Function Output:\", sum_list([1, 2, 3, 4, 5]))\n",
    "print(\"Sorted Numbers:\", sorted_numbers)\n",
    "print(\"Filtered Numbers (Even Only):\", filtered_numbers)\n",
    "print(\"Mapped Numbers (Squared):\", squared_numbers)\n",
    "print(\"Reduced Sum of Numbers:\", sum_of_numbers)\n",
    "print(\"Enumerated List:\", enumerated_list)\n",
    "print(\"Zipped List:\", zipped_list)\n"
   ]
  }
 ],
 "metadata": {
  "kernelspec": {
   "display_name": "Python 3",
   "language": "python",
   "name": "python3"
  },
  "language_info": {
   "codemirror_mode": {
    "name": "ipython",
    "version": 3
   },
   "file_extension": ".py",
   "mimetype": "text/x-python",
   "name": "python",
   "nbconvert_exporter": "python",
   "pygments_lexer": "ipython3",
   "version": "3.13.2"
  }
 },
 "nbformat": 4,
 "nbformat_minor": 2
}
