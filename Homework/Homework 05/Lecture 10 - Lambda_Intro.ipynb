{
 "cells": [
  {
   "cell_type": "markdown",
   "id": "fa585c5a",
   "metadata": {},
   "source": [
    "## Lambda\n"
   ]
  },
  {
   "cell_type": "markdown",
   "id": "021a61a3",
   "metadata": {},
   "source": [
    "## Lambda Expression\n",
    "- Lambda expressions are small functions that take in a x number of parameters and an expression combination.\n",
    "\n",
    "- A lambda expression is a secret function that is only used once \n",
    "\n",
    "```python\n",
    "    lambda param: function(param)\n",
    "```"
   ]
  },
  {
   "cell_type": "code",
   "execution_count": 1,
   "id": "c2beb7df",
   "metadata": {},
   "outputs": [
    {
     "name": "stdout",
     "output_type": "stream",
     "text": [
      "[0, 1, 4, 9, 16, 25, 36, 49, 64, 81]\n",
      "[0, 1, 4, 9, 16, 25, 36, 49, 64, 81]\n"
     ]
    }
   ],
   "source": [
    "print(list(\n",
    "        map(\n",
    "            lambda x: x ** 2, #function\n",
    "            range(10) #iterables\n",
    "            )))\n",
    "print(list(map(lambda x: x ** 2,range(10))))"
   ]
  },
  {
   "cell_type": "code",
   "execution_count": null,
   "id": "295e78e8",
   "metadata": {},
   "outputs": [
    {
     "name": "stdout",
     "output_type": "stream",
     "text": [
      "<map object at 0x7b0eba8489d0>\n"
     ]
    }
   ],
   "source": [
    "alist=[1,2,3]\n",
    "print(list(\n",
    "        map(   \n",
    "            lambda x, y: x+y, #function\n",
    "            alist, alist #iterables\n",
    "            )))"
   ]
  },
  {
   "cell_type": "markdown",
   "id": "59a60179",
   "metadata": {},
   "source": [
    "Lets take a look at a recursion example using factorial"
   ]
  },
  {
   "cell_type": "code",
   "execution_count": 4,
   "id": "ab01d79e",
   "metadata": {},
   "outputs": [
    {
     "data": {
      "text/plain": [
       "6"
      ]
     },
     "execution_count": 4,
     "metadata": {},
     "output_type": "execute_result"
    }
   ],
   "source": [
    "def s(x):\n",
    "    if x == 0: \n",
    "        x = 1\n",
    "    else:\n",
    "        x = x * s(x-1)\n",
    "        \n",
    "    return x\n",
    "\n",
    "s(3)"
   ]
  },
  {
   "cell_type": "code",
   "execution_count": null,
   "id": "8e794b24",
   "metadata": {},
   "outputs": [],
   "source": [
    "(lambda a: \n",
    " lambda v:a(a,v)\n",
    " )(lambda s, \n",
    "   x:1 if x==0 else x*s(s,x-1))(3) \n",
    "\n"
   ]
  },
  {
   "cell_type": "code",
   "execution_count": null,
   "id": "3ec23ec9-a951-41fd-9053-61b2fb9ba649",
   "metadata": {},
   "outputs": [],
   "source": [
    "def v(n):\n",
    "    def a(s, x):\n",
    "        if x == 0:\n",
    "            return 1\n",
    "        else:\n",
    "            return x * s(s, x - 1)\n",
    "    return a(a, n)\n",
    "\n",
    "print(v(3))  # Output: 6"
   ]
  },
  {
   "cell_type": "code",
   "execution_count": null,
   "id": "55777168",
   "metadata": {},
   "outputs": [],
   "source": [
    "\n",
    "(lambda a: #define the lambda\n",
    "    # This lambda calls the outer function 'a' with itself and 'v'\n",
    "    lambda v: a(a, v)  \n",
    "    )(lambda s, x: # The outer lambda'a' takes a function 's' and an integer 'x'\n",
    "        1 if x == 0 else x * s(s, x - 1) #equation\n",
    "    )(3) # Call with 3 as x"
   ]
  },
  {
   "cell_type": "markdown",
   "id": "5ea1ac4b",
   "metadata": {},
   "source": [
    "### Lambda Functions\n",
    "A Lambda function is like a Lambda expression but can be used over and over again."
   ]
  },
  {
   "cell_type": "code",
   "execution_count": 5,
   "id": "ade06100",
   "metadata": {},
   "outputs": [
    {
     "data": {
      "text/plain": [
       "'Mr. Powers'"
      ]
     },
     "execution_count": 5,
     "metadata": {},
     "output_type": "execute_result"
    }
   ],
   "source": [
    "print_name = lambda first, last: first + ' ' + last # def print_name(first, last): return first + ' ' + last\n",
    "print_name('Mr.', 'Powers')"
   ]
  },
  {
   "cell_type": "code",
   "execution_count": 6,
   "id": "5f87b9dd",
   "metadata": {},
   "outputs": [
    {
     "name": "stdout",
     "output_type": "stream",
     "text": [
      "8\n"
     ]
    }
   ],
   "source": [
    "# Lambda function to add two numbers\n",
    "adder = lambda x, y: x + y\n",
    "print(adder(5, 3))  # Output: 8\n",
    "\n"
   ]
  },
  {
   "cell_type": "code",
   "execution_count": 9,
   "id": "eb20dcaa",
   "metadata": {},
   "outputs": [
    {
     "name": "stdout",
     "output_type": "stream",
     "text": [
      "class Dagger:\n",
      "    def __init__(self):\n",
      "        # Initialize health using the health property\n",
      "        self.__health = 5\n",
      "        # Lambda function to add two numbers\n",
      "        self.healing_amount = lambda x, y: x + y\n",
      "        # Private lambda function to multiply two numbers\n",
      "        self.__multiplier = lambda x, y: x * y\n",
      "\n",
      "    def do_damage(self):\n",
      "        return self.__multiplier(5, 3)\n",
      "    \n",
      "    def heal(self):\n",
      "        self.__health += self.healing_amount(self.__health, 5)\n",
      "        return self.__health\n",
      "\n",
      "    @property\n",
      "    def health(self):\n",
      "        return self.__health\n",
      "    \n",
      "    @health.setter\n",
      "    def health(self, value):\n",
      "        print(\"Health cannot be set directly\")\n"
     ]
    }
   ],
   "source": [
    "from Dagger import Dagger\n",
    "#!type Dagger.py\n",
    "!cat Dagger.py"
   ]
  },
  {
   "cell_type": "code",
   "execution_count": 10,
   "id": "af090e5c",
   "metadata": {},
   "outputs": [
    {
     "name": "stdout",
     "output_type": "stream",
     "text": [
      "dagger is doing damage 15\n",
      "505\n",
      "health before: 5\n",
      "healing: 15\n",
      "health after: 15\n",
      "Health cannot be set directly\n"
     ]
    }
   ],
   "source": [
    "dagger = Dagger()\n",
    "#print(dagger._Dagger__multiplier) # Now it is a private lambda function\n",
    "print(\"dagger is doing damage \" + str(dagger.do_damage()))\n",
    "print(dagger.healing_amount(500,5))\n",
    "print(\"health before: \" + str(dagger.health))\n",
    "print(\"healing: \" + str(dagger.heal()))\n",
    "print(\"health after: \" + str(dagger.health))\n",
    "\n",
    "dagger.health = 0"
   ]
  },
  {
   "cell_type": "markdown",
   "id": "fd577bb3",
   "metadata": {},
   "source": [
    " Do not make your lambda functions to complicated\n",
    "\n",
    "\n",
    "Fredrik Lundh ( the creator of PythonWorks) once suggested the following set of rules for refactoring uses of lambda:\n",
    "\n",
    "- Write a lambda function.\n",
    "- Write a comment explaining what the heck that lambda does.\n",
    "- Study the comment for a while, and think of a name that captures the essence of the comment.\n",
    "- Convert the lambda to a def statement, using that name.\n",
    "- Remove the comment."
   ]
  },
  {
   "cell_type": "markdown",
   "id": "77e1b4bc",
   "metadata": {},
   "source": [
    "If you want to deep dive into Functional Programing read \n",
    "\n",
    "\n",
    "Functional Python Programming by \"Steven Lott\"\n",
    "\n",
    "This is book goes deep and talkes a lot about the math side of Functional Programing. "
   ]
  },
  {
   "cell_type": "code",
   "execution_count": null,
   "id": "5c185ed5",
   "metadata": {},
   "outputs": [],
   "source": []
  }
 ],
 "metadata": {
  "kernelspec": {
   "display_name": "Python 3",
   "language": "python",
   "name": "python3"
  },
  "language_info": {
   "codemirror_mode": {
    "name": "ipython",
    "version": 3
   },
   "file_extension": ".py",
   "mimetype": "text/x-python",
   "name": "python",
   "nbconvert_exporter": "python",
   "pygments_lexer": "ipython3",
   "version": "3.12.3"
  }
 },
 "nbformat": 4,
 "nbformat_minor": 5
}
